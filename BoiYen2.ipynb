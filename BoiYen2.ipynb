{
  "cells": [
    {
      "cell_type": "markdown",
      "metadata": {
        "id": "view-in-github",
        "colab_type": "text"
      },
      "source": [
        "<a href=\"https://colab.research.google.com/github/dzuwatalandila-creator/aiclass/blob/main/BoiYen2.ipynb\" target=\"_parent\"><img src=\"https://colab.research.google.com/assets/colab-badge.svg\" alt=\"Open In Colab\"/></a>"
      ]
    },
    {
      "cell_type": "code",
      "execution_count": null,
      "metadata": {
        "colab": {
          "base_uri": "https://localhost:8080/"
        },
        "collapsed": true,
        "id": "Nb3XrgYnw_aw",
        "outputId": "1afa0be7-b3be-4efc-8b28-86753c56db25"
      },
      "outputs": [
        {
          "output_type": "stream",
          "name": "stdout",
          "text": [
            "Collecting kivy[full]\n",
            "  Downloading Kivy-2.3.1-cp312-cp312-manylinux_2_17_x86_64.manylinux2014_x86_64.whl.metadata (14 kB)\n",
            "Collecting Kivy-Garden>=0.1.4 (from kivy[full])\n",
            "  Downloading Kivy_Garden-0.1.5-py3-none-any.whl.metadata (159 bytes)\n",
            "Requirement already satisfied: docutils in /usr/local/lib/python3.12/dist-packages (from kivy[full]) (0.21.2)\n",
            "Requirement already satisfied: pygments in /usr/local/lib/python3.12/dist-packages (from kivy[full]) (2.19.2)\n",
            "Requirement already satisfied: requests in /usr/local/lib/python3.12/dist-packages (from kivy[full]) (2.32.4)\n",
            "Collecting filetype (from kivy[full])\n",
            "  Downloading filetype-1.2.0-py2.py3-none-any.whl.metadata (6.5 kB)\n",
            "Collecting pillow<11,>=9.5.0 (from kivy[full])\n",
            "  Downloading pillow-10.4.0-cp312-cp312-manylinux_2_28_x86_64.whl.metadata (9.2 kB)\n",
            "Collecting ffpyplayer (from kivy[full])\n",
            "  Downloading ffpyplayer-4.5.3-cp312-cp312-manylinux_2_17_x86_64.manylinux2014_x86_64.whl.metadata (4.3 kB)\n",
            "Requirement already satisfied: charset_normalizer<4,>=2 in /usr/local/lib/python3.12/dist-packages (from requests->kivy[full]) (3.4.3)\n",
            "Requirement already satisfied: idna<4,>=2.5 in /usr/local/lib/python3.12/dist-packages (from requests->kivy[full]) (3.10)\n",
            "Requirement already satisfied: urllib3<3,>=1.21.1 in /usr/local/lib/python3.12/dist-packages (from requests->kivy[full]) (2.5.0)\n",
            "Requirement already satisfied: certifi>=2017.4.17 in /usr/local/lib/python3.12/dist-packages (from requests->kivy[full]) (2025.8.3)\n",
            "Downloading Kivy_Garden-0.1.5-py3-none-any.whl (4.6 kB)\n",
            "Downloading pillow-10.4.0-cp312-cp312-manylinux_2_28_x86_64.whl (4.5 MB)\n",
            "\u001b[2K   \u001b[90m━━━━━━━━━━━━━━━━━━━━━━━━━━━━━━━━━━━━━━━━\u001b[0m \u001b[32m4.5/4.5 MB\u001b[0m \u001b[31m61.8 MB/s\u001b[0m eta \u001b[36m0:00:00\u001b[0m\n",
            "\u001b[?25hDownloading ffpyplayer-4.5.3-cp312-cp312-manylinux_2_17_x86_64.manylinux2014_x86_64.whl (30.0 MB)\n",
            "\u001b[2K   \u001b[90m━━━━━━━━━━━━━━━━━━━━━━━━━━━━━━━━━━━━━━━━\u001b[0m \u001b[32m30.0/30.0 MB\u001b[0m \u001b[31m55.7 MB/s\u001b[0m eta \u001b[36m0:00:00\u001b[0m\n",
            "\u001b[?25hDownloading filetype-1.2.0-py2.py3-none-any.whl (19 kB)\n",
            "Downloading Kivy-2.3.1-cp312-cp312-manylinux_2_17_x86_64.manylinux2014_x86_64.whl (23.1 MB)\n",
            "\u001b[2K   \u001b[90m━━━━━━━━━━━━━━━━━━━━━━━━━━━━━━━━━━━━━━━━\u001b[0m \u001b[32m23.1/23.1 MB\u001b[0m \u001b[31m80.2 MB/s\u001b[0m eta \u001b[36m0:00:00\u001b[0m\n",
            "\u001b[?25hInstalling collected packages: filetype, ffpyplayer, pillow, Kivy-Garden, kivy\n",
            "  Attempting uninstall: pillow\n",
            "    Found existing installation: pillow 11.3.0\n",
            "    Uninstalling pillow-11.3.0:\n",
            "      Successfully uninstalled pillow-11.3.0\n",
            "Successfully installed Kivy-Garden-0.1.5 ffpyplayer-4.5.3 filetype-1.2.0 kivy-2.3.1 pillow-10.4.0\n"
          ]
        }
      ],
      "source": [
        "!python3 -m pip install \"kivy[full]\""
      ]
    },
    {
      "cell_type": "code",
      "execution_count": null,
      "metadata": {
        "colab": {
          "base_uri": "https://localhost:8080/"
        },
        "collapsed": true,
        "id": "5tiedDNQYr9T",
        "outputId": "ad6a4acc-93ce-468a-b717-d0ab941632ee"
      },
      "outputs": [
        {
          "metadata": {
            "tags": null
          },
          "name": "stderr",
          "output_type": "stream",
          "text": [
            "WARNING:kivy:Config: Older configuration version detected (0 instead of 27)\n",
            "WARNING:kivy:Config: Upgrading configuration in progress.\n",
            "DEBUG:kivy:Config: Upgrading from 0 to 1\n",
            "INFO:kivy:Kivy: v2.3.1\n",
            "INFO:kivy:Logger: Record log in /root/.kivy/logs/kivy_25-09-22_0.txt\n",
            "INFO:kivy:Kivy: Installed at \"/usr/local/lib/python3.12/dist-packages/kivy/__init__.py\"\n",
            "INFO:kivy:Python: v3.12.11 (main, Jun  4 2025, 08:56:18) [GCC 11.4.0]\n",
            "INFO:kivy:Python: Interpreter at \"/usr/bin/python3\"\n",
            "INFO:kivy:Logger: Purge log fired. Processing...\n",
            "INFO:kivy:Logger: Purge finished!\n",
            "INFO:kivy:Factory: 195 symbols loaded\n",
            "INFO:kivy:ImageLoaderFFPy: Using ffpyplayer 4.5.3\n",
            "INFO:kivy:Image: Providers: img_tex, img_dds, img_sdl2, img_pil, img_ffpyplayer \n",
            "INFO:kivy:Text: Provider: sdl2\n",
            "ERROR:kivy:Input: MTDev is not supported by your version of linux\n",
            "Traceback (most recent call last):\n",
            "  File \"/usr/local/lib/python3.12/dist-packages/kivy/input/providers/__init__.py\", line 41, in <module>\n",
            "    import kivy.input.providers.mtdev\n",
            "  File \"/usr/local/lib/python3.12/dist-packages/kivy/input/providers/mtdev.py\", line 94, in <module>\n",
            "    from kivy.lib.mtdev import Device, \\\n",
            "  File \"/usr/local/lib/python3.12/dist-packages/kivy/lib/mtdev.py\", line 30, in <module>\n",
            "    libmtdev = cdll.LoadLibrary('libmtdev.so.1')\n",
            "               ^^^^^^^^^^^^^^^^^^^^^^^^^^^^^^^^^\n",
            "  File \"/usr/lib/python3.12/ctypes/__init__.py\", line 460, in LoadLibrary\n",
            "    return self._dlltype(name)\n",
            "           ^^^^^^^^^^^^^^^^^^^\n",
            "  File \"/usr/lib/python3.12/ctypes/__init__.py\", line 379, in __init__\n",
            "    self._handle = _dlopen(self._name, mode)\n",
            "                   ^^^^^^^^^^^^^^^^^^^^^^^^^\n",
            "OSError: libmtdev.so.1: cannot open shared object file: No such file or directory\n",
            "INFO:kivy:Window: Provider: sdl2\n",
            "INFO:kivy:GL: Using the \"OpenGL\" graphics system\n",
            "INFO:kivy:GL: Backend used <sdl2>\n",
            "INFO:kivy:GL: OpenGL version <b'4.5 (Compatibility Profile) Mesa 23.2.1-1ubuntu3.1~22.04.3'>\n",
            "INFO:kivy:GL: OpenGL vendor <b'Mesa'>\n",
            "INFO:kivy:GL: OpenGL renderer <b'llvmpipe (LLVM 15.0.7, 256 bits)'>\n",
            "INFO:kivy:GL: OpenGL parsed version: 4, 5\n",
            "INFO:kivy:GL: Shading version <b'4.50'>\n",
            "INFO:kivy:GL: Texture max size <16384>\n",
            "INFO:kivy:GL: Texture max units <32>\n",
            "INFO:kivy:Window: auto add sdl2 input provider\n",
            "INFO:kivy:Window: virtual keyboard not allowed, single mode, not docked\n",
            "INFO:kivy:Base: Start application main loop\n",
            "INFO:kivy:GL: NPOT texture support is available\n"
          ]
        }
      ],
      "source": [
        "import os\n",
        "os.environ['KIVY_NO_CONSOLELOG'] = '1'  # optional: hide console logs\n",
        "os.environ['KIVY_WINDOW'] = 'sdl2'      # force SDL2 backend\n",
        "\n",
        "from kivy.app import App\n",
        "from kivy.uix.label import Label\n",
        "from kivy.uix.boxlayout import BoxLayout\n",
        "\n",
        "class Root(App):\n",
        "    def build(self):\n",
        "        layout = BoxLayout(orientation='vertical')\n",
        "        layout.add_widget(Label(text=\"Hello\"))\n",
        "        layout.add_widget(Label(text=\"Kivy in Notebook!\"))\n",
        "        return layout\n",
        ",\n",
        "# In Jupyter, use runTouchApp instead of Root().run()\n",
        "from kivy.base import runTouchApp\n",
        "runTouchApp(Root().build())"
      ]
    }
  ],
  "metadata": {
    "colab": {
      "provenance": [],
      "authorship_tag": "ABX9TyMl0DWKDnnLl+Rd3yqrTAQ+",
      "include_colab_link": true
    },
    "kernelspec": {
      "display_name": "Python 3",
      "name": "python3"
    },
    "language_info": {
      "name": "python"
    }
  },
  "nbformat": 4,
  "nbformat_minor": 0
}